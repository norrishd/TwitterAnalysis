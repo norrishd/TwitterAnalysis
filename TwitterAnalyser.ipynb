{
 "cells": [
  {
   "cell_type": "markdown",
   "metadata": {},
   "source": [
    "# Twitter Analyser\n",
    "David Norrish, November 2017\n",
    "\n",
    "Call Twitter API to retrieve tweets for a user-defined search query, then performs network and sentiment analysis."
   ]
  },
  {
   "cell_type": "markdown",
   "metadata": {},
   "source": [
    "## 1. Retrieve tweets\n",
    "The first step is to call the Twitter tweet search API to retrieve tweets, which we will save in JSON format in a .BZ2 file to save disk space.  \n",
    "The TwitterAPI has a rich search functionality, with available operators described [here](https://developer.twitter.com/en/docs/tweets/search/guides/standard-operators).\n",
    "\n",
    "In this example we will specify the search query, language, count of tweets to return, search by recent tweets (as opposed to popular), and define an output file."
   ]
  },
  {
   "cell_type": "code",
   "execution_count": 1,
   "metadata": {},
   "outputs": [
    {
     "name": "stdout",
     "output_type": "stream",
     "text": [
      "Attempting to use tweets from file ./tweets/loveIsLove.txt.bz2\n"
     ]
    }
   ],
   "source": [
    "# Retrieve tweets and save to an external .bz2 file\n",
    "from twitter_search import search_tweets\n",
    "\n",
    "already_have_tweets = True\n",
    "\n",
    "if already_have_tweets:\n",
    "    filename = 'loveIsLove.txt.bz2'\n",
    "    print('Attempting to use tweets from file ./tweets/' + filename)\n",
    "else:\n",
    "    search_query = 'when'\n",
    "    language = 'en'\n",
    "    count = 300    # the rate limit is 100 tweets per API call, so this will make 3 calls\n",
    "    result_type = 'mix'\n",
    "    filename = 'when.txt.bz2'\n",
    "\n",
    "    args = {\n",
    "        'count': count,\n",
    "        'lang': language,\n",
    "        'result_type': result_type,\n",
    "        'file': filename\n",
    "        }\n",
    "\n",
    "    search_tweets(search_query, **args)"
   ]
  },
  {
   "cell_type": "markdown",
   "metadata": {},
   "source": [
    "## 2. Check data\n",
    "Check that the API call and data saving worked correctly, browse a few tweets and check for retweet status.  \n",
    "Note that tweets are saved in JSON, so we can parse them as dictionaries."
   ]
  },
  {
   "cell_type": "code",
   "execution_count": 2,
   "metadata": {},
   "outputs": [
    {
     "name": "stdout",
     "output_type": "stream",
     "text": [
      "loveIsLove.txt.bz2\n",
      "1. RT @mhall55nine: Into The Misty Dawn! #screenprint  #LoveIsLove #ArtTherapy #futurenow https://t.co/pOZxnSxObW\n",
      "2. Hello 😀 beautiful art🏳️‍🌈😍 #Shadowhunters #ShadowhuntersSeason3 #malec #aleclightwood #MagnusBane #LoveIsLove https://t.co/fbZoVyxet2\n",
      "3. Check out this week’s powerful guest post by @treypearson #MondayBlogs #loveislove #FaithfullyLGBT https://t.co/K3zgu5g0CJ\n",
      "4. We are thrilled to hear early responses to the Where @WhereTrueLoveIs devotional. May God's healing love shine thro… https://t.co/pwc0vU0tTl\n",
      "5. Omgosh @samsmithworld \"HIM\" ❤️❤️❤️ #LoveIsLove\n",
      "6. Please make this happen! x ❤ #No2LGBTHate #LoveIsLove https://t.co/mqMjxFEVGE\n"
     ]
    }
   ],
   "source": [
    "import bz2\n",
    "import json, re\n",
    "import networkx as nx\n",
    "\n",
    "# Import and inspect a BZ2 document of tweets in JSON format\n",
    "print(filename)\n",
    "if not re.search('\\.txt\\.bz2$', filename):    # added on by script file\n",
    "    filename = filename + '.txt.bz2'\n",
    "path = './tweets/' + filename\n",
    "\n",
    "tweet_file = bz2.BZ2File(path, mode='r')\n",
    "for i in range(1, 7):\n",
    "    tweet = json.loads(tweet_file.readline())\n",
    "    print(str(i) + '. ' + tweet['text'])"
   ]
  },
  {
   "cell_type": "markdown",
   "metadata": {},
   "source": [
    "When we build the network graph in the next step we'll use retweet status to connect nodes. Let's get a feel for that."
   ]
  },
  {
   "cell_type": "code",
   "execution_count": null,
   "metadata": {},
   "outputs": [],
   "source": [
    "tweet_file.seek(0)    # Return to top of the file\n",
    "\n",
    "for i in range(8):\n",
    "    # Extract user id and optional retweeted user id\n",
    "    tweet = json.loads(tweet_file.readline())\n",
    "    user_id = tweet['user']['id']\n",
    "    #if isinstance(user_id, dict):    # sometimes this is returned as a dictionary\n",
    "    #    user_id = user_id.values()[0]\n",
    "    user_id = int(user_id)\n",
    "    print(str(i) + '. User id: {}, '.format(user_id), end = '')\n",
    "    \n",
    "    if 'retweeted_status' in tweet:\n",
    "        retweeted_user_id = tweet['retweeted_status']['user']['id']\n",
    "        #if isinstance(retweeted_user_id, dict):\n",
    "        #    retweeted_user_id = retweeted_user_id.values()[0]\n",
    "        retweeted_user_id = int(retweeted_user_id)\n",
    "        print('retweeted from: {}'.format(retweeted_user_id))\n",
    "    else:\n",
    "        print('original tweet')"
   ]
  },
  {
   "cell_type": "markdown",
   "metadata": {},
   "source": [
    "Depending on your search term, there is often a rich mix of original and re-tweets.  \n",
    "Let's see if there are any major players being retweeted."
   ]
  },
  {
   "cell_type": "code",
   "execution_count": 4,
   "metadata": {},
   "outputs": [
    {
     "name": "stdout",
     "output_type": "stream",
     "text": [
      "ID 23497233, retweeted 616 times\n",
      "ID 27725199, retweeted 171 times\n",
      "ID 2920033789, retweeted 158 times\n",
      "ID 19397942, retweeted 80 times\n",
      "ID 21089219, retweeted 75 times\n",
      "ID 24180861, retweeted 70 times\n",
      "ID 14700117, retweeted 70 times\n",
      "ID 2203993285, retweeted 64 times\n"
     ]
    }
   ],
   "source": [
    "tweet_file.seek(0)    # Return to top of the file\n",
    "\n",
    "retweetees = {}\n",
    "\n",
    "for line in tweet_file:\n",
    "    tweet = json.loads(tweet_file.readline())\n",
    "    if 'retweeted_status' in tweet:\n",
    "        retweeted_user_id = tweet['retweeted_status']['user']['id']\n",
    "        if retweeted_user_id not in retweetees:\n",
    "            retweetees[retweeted_user_id] = 1\n",
    "        else:\n",
    "            retweetees[retweeted_user_id] += 1\n",
    "\n",
    "top_retweetees = sorted(retweetees.items(), reverse=True, key=lambda x: x[1])\n",
    "for i in range(8):\n",
    "    print('ID {}, retweeted {} times'.format(top_retweetees[i][0], top_retweetees[i][1]))"
   ]
  },
  {
   "cell_type": "markdown",
   "metadata": {},
   "source": [
    "We can investigate rates of \"favoriting\" and retweeting of original tweets."
   ]
  },
  {
   "cell_type": "code",
   "execution_count": 5,
   "metadata": {},
   "outputs": [
    {
     "name": "stdout",
     "output_type": "stream",
     "text": [
      "Unique tweets: 2259\n",
      "Median favorites per tweet: 1\n",
      "Mean favorites per tweet: 138.3\n",
      "\n",
      "Median retweets per tweet: 0\n",
      "Mean retweets per tweet: 57.0\n",
      "\n",
      "Average favorites/retweet: 2.4257698730146404\n"
     ]
    }
   ],
   "source": [
    "import numpy as np\n",
    "tweet_file.seek(0)\n",
    "\n",
    "IDs = set()\n",
    "retweets = []\n",
    "favorites = []\n",
    "\n",
    "for line in tweet_file:\n",
    "    tweet = json.loads(tweet_file.readline())\n",
    "    # Retween count is shared between all retweets of the original, but favorites count is by instance. Use original tweet\n",
    "    if 'retweeted_status' in tweet:\n",
    "        if not tweet['retweeted_status']['id'] in IDs:\n",
    "            retweets.append(tweet['retweeted_status']['retweet_count'])\n",
    "            favorites.append(tweet['retweeted_status']['favorite_count'])\n",
    "            IDs.add(tweet['retweeted_status']['id'])\n",
    "    else:\n",
    "        if not tweet['id'] in IDs:\n",
    "            retweets.append(tweet['retweet_count'])\n",
    "            favorites.append(tweet['favorite_count'])\n",
    "            IDs.add(tweet['id'])\n",
    "\n",
    "favorites_per_retweet = np.sum(favorites) / np.sum(retweets)\n",
    "\n",
    "print('Unique tweets: {}'.format(len(IDs)))\n",
    "print('Median favorites per tweet: {:.0f}'.format(np.median(favorites)))\n",
    "print('Mean favorites per tweet: {:.1f}'.format(np.mean(favorites)))\n",
    "print('\\nMedian retweets per tweet: {:.0f}'.format(np.median(retweets)))\n",
    "print('Mean retweets per tweet: {:.1f}'.format(np.mean(retweets)))\n",
    "print('\\nAverage favorites/retweet: {}'.format(favorites_per_retweet))"
   ]
  },
  {
   "cell_type": "markdown",
   "metadata": {},
   "source": [
    "Tweets generally have a very skewed distribution, with most receiving almost no attention, and a small number receiving a huge amount of attention. Ratio of favorites to retweets is often around 2.3 - 2.4. We can use this to derive a \"score\" per tweet by weighting retweets and likes by their rarity, and consequently print the most \"popular\" tweets"
   ]
  },
  {
   "cell_type": "code",
   "execution_count": 6,
   "metadata": {},
   "outputs": [
    {
     "name": "stdout",
     "output_type": "stream",
     "text": [
      "Median score per tweet: 2.0\n",
      "Mean score per tweet: 276.5 \n",
      "\n",
      "Score (238332.3), ID: 742135690599665665 \n",
      "RT @danielhowell: #LoveIsLove shows how amazing the internet can be to spread love and support instead of hate. you are beautiful love your… \n",
      "\n",
      "Score (99134.3), ID: 752201488240242689 \n",
      "RT @GIRLSKISSGlRLS: in memory of the orlando victims- a reminder that love will always win in the end ♡ #loveislove #lovewins\n",
      "https://t.co/… \n",
      "\n",
      "Score (51609.9), ID: 930578000659210240 \n",
      "RT @Sia: the Australian people have spoken loud and clear. #LoveIsLove 🏳️‍🌈🏳️‍🌈🏳️‍🌈 https://t.co/FMQ1tDc9yY \n",
      "\n",
      "Score (26349.8), ID: 742141708142399488 \n",
      "RT @MichaelFaudet: Always be the voice for love, tolerance and kindness. #LoveIsLove https://t.co/a13ZRRjAdl \n",
      "\n",
      "Score (24209.8), ID: 909126130359291905 \n",
      "RT @itzzkait: This is such a powerful message #loveislove https://t.co/fDcgBmrO4M \n",
      "\n"
     ]
    }
   ],
   "source": [
    "scores = [favorites[i] + retweets[i] * favorites_per_retweet for i in range(len(favorites))]\n",
    "\n",
    "print('Median score per tweet: {:.1f}'.format(np.median(scores)))\n",
    "print('Mean score per tweet: {:.1f} \\n'.format(np.mean(scores)))\n",
    "\n",
    "scores = sorted(scores, reverse=True)\n",
    "# print(scores)\n",
    "threshold = scores[5]\n",
    "\n",
    "# Extract most popular tweets\n",
    "tweet_file.seek(0)\n",
    "top_tweets= []\n",
    "IDs = set()\n",
    "\n",
    "for line in tweet_file:\n",
    "    tweet = json.loads(tweet_file.readline())\n",
    "    if 'retweeted_status' in tweet:\n",
    "        score = tweet['retweeted_status']['retweet_count'] * favorites_per_retweet + tweet['retweeted_status']['favorite_count']\n",
    "        ID = tweet['retweeted_status']['id']\n",
    "    else:\n",
    "        score = tweet['retweet_count'] * favorites_per_retweet + tweet['favorite_count']\n",
    "        ID = tweet['id']\n",
    "\n",
    "    if score > threshold and not ID in IDs:\n",
    "        top_tweets.append((tweet['text'], score, ID))\n",
    "        IDs.add(ID)\n",
    "\n",
    "top_tweets = sorted(top_tweets, key=lambda x: x[1], reverse=True)\n",
    "        \n",
    "for tweet in top_tweets:\n",
    "    print('Score ({:.1f}), ID: {} \\n{} \\n'.format(tweet[1], tweet[2], tweet[0]))"
   ]
  },
  {
   "cell_type": "markdown",
   "metadata": {},
   "source": [
    "## 3. Building Graphs\n",
    "We will use the excellent networkx package to build a graph, by placing a directed edge from each retweeting user to the user they retweeted. Note that building the graph may take some time depending on how how many tweets are in your dataset."
   ]
  },
  {
   "cell_type": "code",
   "execution_count": 7,
   "metadata": {},
   "outputs": [],
   "source": [
    "import networkx as nx\n",
    "tweet_file.seek(0)\n",
    "\n",
    "#  Initialise the networkx graph\n",
    "retweet_graph = nx.DiGraph()\n",
    "\n",
    "# Go line by line (i.e. tweet by tweet), building graph\n",
    "for line in tweet_file:\n",
    "    tweet = json.loads(line)\n",
    "    \n",
    "    # Only include tweets that are retweets\n",
    "    if 'retweeted_status' in tweet:\n",
    "        # Determine user id\n",
    "        user_id = tweet['user']['id']\n",
    "        # if isinstance(user_id, dict):\n",
    "        #     user_id = user_id.values()[0]\n",
    "        user_id = int(user_id)\n",
    "    \n",
    "        # Determine the retweeted user id\n",
    "        retweeted_user_id = tweet['retweeted_status']['user']['id']\n",
    "        # if isinstance(retweeted_user_id, dict):\n",
    "        #     retweeted_user_id = retweeted_user_id.values()[0]\n",
    "        # retweeted_user_id = int(retweeted_user_id)\n",
    "        \n",
    "        # Add the two nodes in the graph, if not already there\n",
    "        if user_id not in retweet_graph:\n",
    "            retweet_graph.add_node(user_id)\n",
    "        if retweeted_user_id not in retweet_graph:\n",
    "            retweet_graph.add_node(retweeted_user_id)\n",
    "        retweet_graph.add_edge(user_id, retweeted_user_id)"
   ]
  },
  {
   "cell_type": "markdown",
   "metadata": {},
   "source": [
    "Check the dimensionality of the graph. Twitter graphs are generally very sparse."
   ]
  },
  {
   "cell_type": "code",
   "execution_count": 14,
   "metadata": {},
   "outputs": [
    {
     "name": "stdout",
     "output_type": "stream",
     "text": [
      "Number of nodes: 7218\n",
      "Number of edges: 6630\n",
      "\n",
      "Given that the maximum number of edges in a directed graph is 52092306 (N * (N - 1)),\n",
      "this graph is 0.0% connected\n"
     ]
    }
   ],
   "source": [
    "nodes = retweet_graph.number_of_nodes()\n",
    "edges = retweet_graph.number_of_edges()\n",
    "print('Number of nodes: {}'.format(nodes))\n",
    "print('Number of edges: {}'.format(edges))\n",
    "max_edges = int(nodes * (nodes - 1))\n",
    "print('\\nGiven that the maximum number of edges in a directed graph is {} (N * (N - 1)),\\nthis graph is {:.1%} connected'.format(max_edges, edges / max_edges))"
   ]
  },
  {
   "cell_type": "code",
   "execution_count": 20,
   "metadata": {},
   "outputs": [
    {
     "name": "stdout",
     "output_type": "stream",
     "text": [
      "The graph contains 803 connected components.\n",
      "Connected components, inversely sorted by size:\n",
      "Rank 0: 4116 users (57.024% of total population)\n",
      "Rank 1: 136 users (1.884% of total population)\n",
      "Rank 2: 102 users (1.413% of total population)\n",
      "Rank 3: 59 users (0.817% of total population)\n",
      "Rank 4: 51 users (0.707% of total population)\n"
     ]
    }
   ],
   "source": [
    "# create an undirected version of our graph\n",
    "G = retweet_graph.to_undirected()\n",
    "\n",
    "# check if graph is connected\n",
    "if nx.is_connected(G):\n",
    "    print('The graph is connected, it has only one connected component')\n",
    "else:\n",
    "    print('The graph contains {} connected components.'.format(nx.number_connected_components(G)))\n",
    "    \n",
    "GCCs = sorted(nx.connected_component_subgraphs(G), key = len, reverse=True)\n",
    "print('Connected components, inversely sorted by size:')\n",
    "for i in range(5):\n",
    "    print('Rank {:d}: {:d} users ({:.3f}% of total population)'.format(i, len(GCCs[i]), (float(len(GCCs[i])) * 100 / len(G))))\n",
    "\n",
    "Gcc = GCCs[0]"
   ]
  },
  {
   "cell_type": "markdown",
   "metadata": {},
   "source": [
    "We can investigate traits of the graph, including:\n",
    "- radius (the smallest number of steps that allows all nodes to be reached from at least one node in the graph)\n",
    "- diameter (the greatest number of steps that allows all nodes to be reached from at least one node in the graph)"
   ]
  },
  {
   "cell_type": "code",
   "execution_count": 21,
   "metadata": {},
   "outputs": [
    {
     "name": "stdout",
     "output_type": "stream",
     "text": [
      "Giant connected component contains 4116 nodes\n",
      "Giant connected component contains 4260 edges\n",
      "Radius of the giant connected component is 11\n",
      "Diameter of the giant connected component is 22\n"
     ]
    }
   ],
   "source": [
    "print('Giant connected component contains {} nodes'.format(len(Gcc)))\n",
    "print('Giant connected component contains {} edges'.format(Gcc.number_of_edges()))\n",
    "print('Radius of the giant connected component is ' + str(nx.radius(Gcc)))\n",
    "print('Diameter of the giant connected component is ' + str(nx.diameter(Gcc)))"
   ]
  },
  {
   "cell_type": "markdown",
   "metadata": {},
   "source": [
    "Restrict graph based on in-degree/outdegree"
   ]
  },
  {
   "cell_type": "code",
   "execution_count": 45,
   "metadata": {},
   "outputs": [
    {
     "name": "stdout",
     "output_type": "stream",
     "text": [
      "<class 'networkx.classes.digraph.DiGraph'>\n",
      "<class 'networkx.classes.graph.Graph'>\n"
     ]
    }
   ],
   "source": [
    "print(type(retweet_graph))\n",
    "print(type(Gcc))"
   ]
  },
  {
   "cell_type": "code",
   "execution_count": 46,
   "metadata": {},
   "outputs": [
    {
     "name": "stdout",
     "output_type": "stream",
     "text": [
      "7218\n",
      "1204\n",
      "0.0\n",
      "1.0\n",
      "11\n"
     ]
    }
   ],
   "source": [
    "indegrees = []\n",
    "outdegrees = []\n",
    "for node in retweet_graph:\n",
    "    indegrees.append(retweet_graph.in_degree(node))\n",
    "    outdegrees.append(retweet_graph.out_degree(node))\n",
    "\n",
    "print(len(indegrees))\n",
    "print(max(indegrees))\n",
    "print(np.median(indegrees))\n",
    "print(len(indegrees)/len(retweet_graph))\n",
    "print(max(outdegrees))"
   ]
  },
  {
   "cell_type": "code",
   "execution_count": 47,
   "metadata": {},
   "outputs": [
    {
     "data": {
      "image/png": "[encoded data removed]",
      "text/plain": [
       "<matplotlib.figure.Figure at 0x1b104aa4e10>"
      ]
     },
     "metadata": {},
     "output_type": "display_data"
    }
   ],
   "source": [
    "import matplotlib.pyplot as plt\n",
    "\n",
    "plt.figure(figsize=(10,6))\n",
    "plt.plot(sorted(indegrees))\n",
    "plt.plot(sorted(outdegrees))\n",
    "plt.ylabel('In-degree')\n",
    "plt.xlabel('number of tweets')\n",
    "plt.legend(['indegree', 'outdegree'], loc='upper left')\n",
    "plt.show()"
   ]
  },
  {
   "cell_type": "markdown",
   "metadata": {},
   "source": [
    "If we throw away the huge number of nodes with 0 or minimal in-degree, we can reduce the graph size substantially and make it tractable to analyse further"
   ]
  },
  {
   "cell_type": "code",
   "execution_count": 54,
   "metadata": {},
   "outputs": [
    {
     "name": "stdout",
     "output_type": "stream",
     "text": [
      "6229\n",
      "989\n"
     ]
    }
   ],
   "source": [
    "zeroes = [x for x in indegrees if x == 0]\n",
    "two_pluses = [x for x in indegrees if x > 0]\n",
    "print(len(zeroes))\n",
    "print(len(two_pluses))"
   ]
  },
  {
   "cell_type": "code",
   "execution_count": 56,
   "metadata": {},
   "outputs": [
    {
     "name": "stdout",
     "output_type": "stream",
     "text": [
      "7218\n",
      "989\n"
     ]
    }
   ],
   "source": [
    "to_delete = []\n",
    "for node in retweet_graph:\n",
    "    if retweet_graph.in_degree(node) < 1:\n",
    "        to_delete.append(node)\n",
    "\n",
    "pruned_graph = retweet_graph.copy()\n",
    "print(len(pruned_graph))\n",
    "for node in to_delete:\n",
    "    pruned_graph.remove_node(node)\n",
    "print(len(pruned_graph))"
   ]
  },
  {
   "cell_type": "markdown",
   "metadata": {},
   "source": [
    "Find the most central nodes"
   ]
  },
  {
   "cell_type": "code",
   "execution_count": 22,
   "metadata": {},
   "outputs": [
    {
     "ename": "KeyboardInterrupt",
     "evalue": "",
     "output_type": "error",
     "traceback": [
      "\u001b[1;31m---------------------------------------------------------------------------\u001b[0m",
      "\u001b[1;31mKeyboardInterrupt\u001b[0m                         Traceback (most recent call last)",
      "\u001b[1;32m<ipython-input-22-1ac7ebd15118>\u001b[0m in \u001b[0;36m<module>\u001b[1;34m()\u001b[0m\n\u001b[1;32m----> 1\u001b[1;33m \u001b[0mnodes_bc\u001b[0m \u001b[1;33m=\u001b[0m \u001b[0mnx\u001b[0m\u001b[1;33m.\u001b[0m\u001b[0mbetweenness_centrality\u001b[0m\u001b[1;33m(\u001b[0m\u001b[0mretweet_graph\u001b[0m\u001b[1;33m)\u001b[0m\u001b[1;33m\u001b[0m\u001b[0m\n\u001b[0m\u001b[0;32m      2\u001b[0m \u001b[0mmax_node_bc\u001b[0m \u001b[1;33m=\u001b[0m \u001b[1;36m0\u001b[0m\u001b[1;33m\u001b[0m\u001b[0m\n\u001b[0;32m      3\u001b[0m \u001b[0mmax_nodes\u001b[0m \u001b[1;33m=\u001b[0m \u001b[1;33m[\u001b[0m\u001b[1;33m]\u001b[0m\u001b[1;33m\u001b[0m\u001b[0m\n\u001b[0;32m      4\u001b[0m \u001b[1;32mfor\u001b[0m \u001b[0mnode\u001b[0m\u001b[1;33m,\u001b[0m \u001b[0mscore\u001b[0m \u001b[1;32min\u001b[0m \u001b[0mnodes_bc\u001b[0m\u001b[1;33m.\u001b[0m\u001b[0miteritems\u001b[0m\u001b[1;33m(\u001b[0m\u001b[1;33m)\u001b[0m\u001b[1;33m:\u001b[0m\u001b[1;33m\u001b[0m\u001b[0m\n\u001b[0;32m      5\u001b[0m     \u001b[1;32mif\u001b[0m \u001b[0mscore\u001b[0m \u001b[1;33m>\u001b[0m \u001b[0mmax_node_bc\u001b[0m\u001b[1;33m:\u001b[0m\u001b[1;33m\u001b[0m\u001b[0m\n",
      "\u001b[1;32mc:\\Users\\Noosh\\Anaconda3\\lib\\site-packages\\networkx\\algorithms\\centrality\\betweenness.py\u001b[0m in \u001b[0;36mbetweenness_centrality\u001b[1;34m(G, k, normalized, weight, endpoints, seed)\u001b[0m\n\u001b[0;32m    114\u001b[0m         \u001b[1;31m# single source shortest paths\u001b[0m\u001b[1;33m\u001b[0m\u001b[1;33m\u001b[0m\u001b[0m\n\u001b[0;32m    115\u001b[0m         \u001b[1;32mif\u001b[0m \u001b[0mweight\u001b[0m \u001b[1;32mis\u001b[0m \u001b[1;32mNone\u001b[0m\u001b[1;33m:\u001b[0m  \u001b[1;31m# use BFS\u001b[0m\u001b[1;33m\u001b[0m\u001b[0m\n\u001b[1;32m--> 116\u001b[1;33m             \u001b[0mS\u001b[0m\u001b[1;33m,\u001b[0m \u001b[0mP\u001b[0m\u001b[1;33m,\u001b[0m \u001b[0msigma\u001b[0m \u001b[1;33m=\u001b[0m \u001b[0m_single_source_shortest_path_basic\u001b[0m\u001b[1;33m(\u001b[0m\u001b[0mG\u001b[0m\u001b[1;33m,\u001b[0m \u001b[0ms\u001b[0m\u001b[1;33m)\u001b[0m\u001b[1;33m\u001b[0m\u001b[0m\n\u001b[0m\u001b[0;32m    117\u001b[0m         \u001b[1;32melse\u001b[0m\u001b[1;33m:\u001b[0m  \u001b[1;31m# use Dijkstra's algorithm\u001b[0m\u001b[1;33m\u001b[0m\u001b[0m\n\u001b[0;32m    118\u001b[0m             \u001b[0mS\u001b[0m\u001b[1;33m,\u001b[0m \u001b[0mP\u001b[0m\u001b[1;33m,\u001b[0m \u001b[0msigma\u001b[0m \u001b[1;33m=\u001b[0m \u001b[0m_single_source_dijkstra_path_basic\u001b[0m\u001b[1;33m(\u001b[0m\u001b[0mG\u001b[0m\u001b[1;33m,\u001b[0m \u001b[0ms\u001b[0m\u001b[1;33m,\u001b[0m \u001b[0mweight\u001b[0m\u001b[1;33m)\u001b[0m\u001b[1;33m\u001b[0m\u001b[0m\n",
      "\u001b[1;32mc:\\Users\\Noosh\\Anaconda3\\lib\\site-packages\\networkx\\algorithms\\centrality\\betweenness.py\u001b[0m in \u001b[0;36m_single_source_shortest_path_basic\u001b[1;34m(G, s)\u001b[0m\n\u001b[0;32m    229\u001b[0m     \u001b[0mP\u001b[0m \u001b[1;33m=\u001b[0m \u001b[1;33m{\u001b[0m\u001b[1;33m}\u001b[0m\u001b[1;33m\u001b[0m\u001b[0m\n\u001b[0;32m    230\u001b[0m     \u001b[1;32mfor\u001b[0m \u001b[0mv\u001b[0m \u001b[1;32min\u001b[0m \u001b[0mG\u001b[0m\u001b[1;33m:\u001b[0m\u001b[1;33m\u001b[0m\u001b[0m\n\u001b[1;32m--> 231\u001b[1;33m         \u001b[0mP\u001b[0m\u001b[1;33m[\u001b[0m\u001b[0mv\u001b[0m\u001b[1;33m]\u001b[0m \u001b[1;33m=\u001b[0m \u001b[1;33m[\u001b[0m\u001b[1;33m]\u001b[0m\u001b[1;33m\u001b[0m\u001b[0m\n\u001b[0m\u001b[0;32m    232\u001b[0m     \u001b[0msigma\u001b[0m \u001b[1;33m=\u001b[0m \u001b[0mdict\u001b[0m\u001b[1;33m.\u001b[0m\u001b[0mfromkeys\u001b[0m\u001b[1;33m(\u001b[0m\u001b[0mG\u001b[0m\u001b[1;33m,\u001b[0m \u001b[1;36m0.0\u001b[0m\u001b[1;33m)\u001b[0m    \u001b[1;31m# sigma[v]=0 for v in G\u001b[0m\u001b[1;33m\u001b[0m\u001b[0m\n\u001b[0;32m    233\u001b[0m     \u001b[0mD\u001b[0m \u001b[1;33m=\u001b[0m \u001b[1;33m{\u001b[0m\u001b[1;33m}\u001b[0m\u001b[1;33m\u001b[0m\u001b[0m\n",
      "\u001b[1;31mKeyboardInterrupt\u001b[0m: "
     ]
    }
   ],
   "source": [
    "nodes_bc = nx.betweenness_centrality(retweet_graph)\n",
    "max_node_bc = 0\n",
    "max_nodes = []\n",
    "for node, score in nodes_bc.iteritems():\n",
    "    if score > max_node_bc:\n",
    "        max_nodes = [node]\n",
    "        max_node_bc = score\n",
    "    elif score == max_node_bc:\n",
    "        max_nodes.append(node)\n",
    "print('The node(s) with highest betweenness centrality are {}, with a value of {}'.format(max_nodes, max_node_bc))"
   ]
  },
  {
   "cell_type": "code",
   "execution_count": 62,
   "metadata": {},
   "outputs": [
    {
     "data": {
      "text/plain": [
       "<matplotlib.collections.LineCollection at 0x1b105828518>"
      ]
     },
     "execution_count": 62,
     "metadata": {},
     "output_type": "execute_result"
    },
    {
     "data": {
      "image/png": "[encoded data removed]",
      "text/plain": [
       "<matplotlib.figure.Figure at 0x1b104acdb70>"
      ]
     },
     "metadata": {},
     "output_type": "display_data"
    }
   ],
   "source": [
    "%matplotlib inline\n",
    "import matplotlib.pyplot as plt\n",
    "\n",
    "# Determine the spring layout\n",
    "pos = nx.spring_layout(pruned_graph)\n",
    "\n",
    "# draw the graph\n",
    "plt.figure(figsize=(14,10))\n",
    "plt.axis('off')\n",
    "nx.draw_networkx_nodes(pruned_graph, pos, node_size=30)\n",
    "nx.draw_networkx_edges(pruned_graph, pos, width=0.75, arrows=True)"
   ]
  },
  {
   "cell_type": "markdown",
   "metadata": {},
   "source": [
    "### Reply graph\n",
    "We can also construct the reply graph. First check what replies look like"
   ]
  },
  {
   "cell_type": "code",
   "execution_count": null,
   "metadata": {},
   "outputs": [],
   "source": [
    "# Get an example tweet which replies to a user in order to see the structure\n",
    "tweet_file.seek(0)\n",
    "\n",
    "# Read through tweets until find an example, see what it looks like\n",
    "example_found = False\n",
    "i = 0\n",
    "while not example_found:\n",
    "    tweet = json.loads(tweet_file.readline())\n",
    "    if 'in_reply_to_user_id' in tweet and tweet['in_reply_to_user_id'] != None:\n",
    "        example_found = True\n",
    "    i += 1\n",
    "\n",
    "print(str(i) + '. User ID: ' + str(tweet['user']['id']) + ', in reply to ' + str(tweet['in_reply_to_user_id']))"
   ]
  },
  {
   "cell_type": "markdown",
   "metadata": {},
   "source": [
    "And how many replies we expect:"
   ]
  },
  {
   "cell_type": "code",
   "execution_count": null,
   "metadata": {
    "collapsed": true
   },
   "outputs": [],
   "source": []
  },
  {
   "cell_type": "code",
   "execution_count": null,
   "metadata": {},
   "outputs": [],
   "source": [
    "tweet_file.seek(0)\n",
    "reply_graph = nx.DiGraph()\n",
    "\n",
    "## code for constructing the Directed Graph `DG`\n",
    "# Parse the JSON tweet object and extract information:\n",
    "# user/id\n",
    "# go line by line (ergo, tweet by tweet), building graph\n",
    "for line in tweet_file:\n",
    "    # load the JSON object from the read line\n",
    "    tweet = json.loads(line)\n",
    "    \n",
    "    # If the current tweet is a reply\n",
    "    if tweet['in_reply_to_user_id'] != None:\n",
    "        user_id = tweet['user']['id']\n",
    "        # if isinstance(user_id, dict):\n",
    "        #     user_id = user_id.values()[0]\n",
    "        # user_id = int(user_id)\n",
    "    \n",
    "        # Determine the replied to user id\n",
    "        in_reply_to_user_id = tweet['in_reply_to_user_id']\n",
    "        # if isinstance(in_reply_to_user_id, dict):\n",
    "        #     in_reply_user_id = in_reply_user_id.values()[0]\n",
    "        # in_reply_user_id = int(in_reply_user_id)\n",
    "       \n",
    "        # Add the two nodes in the graph, if not already there\n",
    "        if user_id not in reply_graph:\n",
    "            reply_graph.add_node(user_id)\n",
    "        if in_reply_to_user_id not in reply_graph:\n",
    "            reply_graph.add_node(in_reply_to_user_id)\n",
    "        reply_graph.add_edge(user_id, in_reply_to_user_id)"
   ]
  },
  {
   "cell_type": "code",
   "execution_count": null,
   "metadata": {},
   "outputs": [],
   "source": [
    "# Determine the spring layout\n",
    "pos = nx.spring_layout(reply_graph)\n",
    "\n",
    "# draw the graph\n",
    "plt.figure(figsize=(14,10))\n",
    "plt.axis('off')\n",
    "nx.draw_networkx_nodes(reply_graph, pos, node_size=50)\n",
    "nx.draw_networkx_edges(reply_graph, pos, width=0.75, arrows=True)"
   ]
  },
  {
   "cell_type": "code",
   "execution_count": null,
   "metadata": {
    "collapsed": true
   },
   "outputs": [],
   "source": []
  }
 ],
 "metadata": {
  "kernelspec": {
   "display_name": "Python 3",
   "language": "python",
   "name": "python3"
  },
  "language_info": {
   "codemirror_mode": {
    "name": "ipython",
    "version": 3
   },
   "file_extension": ".py",
   "mimetype": "text/x-python",
   "name": "python",
   "nbconvert_exporter": "python",
   "pygments_lexer": "ipython3",
   "version": "3.6.1"
  }
 },
 "nbformat": 4,
 "nbformat_minor": 2
}
