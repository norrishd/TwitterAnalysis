{
 "cells": [
  {
   "cell_type": "markdown",
   "metadata": {},
   "source": [
    "# Twitter Analyser\n",
    "David Norrish, November 2017\n",
    "\n",
    "Call Twitter API to retrieve tweets for a user-defined search query, then performs network and sentiment analysis."
   ]
  },
  {
   "cell_type": "code",
   "execution_count": 6,
   "metadata": {},
   "outputs": [
    {
     "name": "stdout",
     "output_type": "stream",
     "text": [
      "3\n"
     ]
    },
    {
     "name": "stderr",
     "output_type": "stream",
     "text": [
      "usage: ipykernel_launcher.py [-h] [-l LANG] [-r {recent,popular,mixed}]\n",
      "                             [-c COUNT] [-u YYYY-MM-DD] [-s SINCE_ID]\n",
      "                             [-m MAX_ID] [-i {true,false}] [-f FILE] [-e]\n",
      "                             query\n",
      "ipykernel_launcher.py: error: the following arguments are required: query\n"
     ]
    },
    {
     "ename": "SystemExit",
     "evalue": "2",
     "output_type": "error",
     "traceback": [
      "An exception has occurred, use %tb to see the full traceback.\n",
      "\u001b[1;31mSystemExit\u001b[0m\u001b[1;31m:\u001b[0m 2\n"
     ]
    },
    {
     "name": "stderr",
     "output_type": "stream",
     "text": [
      "c:\\Users\\Noosh\\Anaconda3\\lib\\site-packages\\IPython\\core\\interactiveshell.py:2889: UserWarning: To exit: use 'exit', 'quit', or Ctrl-D.\n",
      "  warn(\"To exit: use 'exit', 'quit', or Ctrl-D.\", stacklevel=1)\n"
     ]
    }
   ],
   "source": [
    "from twitter_search import search"
   ]
  },
  {
   "cell_type": "code",
   "execution_count": 2,
   "metadata": {},
   "outputs": [],
   "source": [
    "import bz2\n",
    "import json\n",
    "import networkx as nx\n",
    "\n",
    "# Import and inspect a BZ2 document of tweets in JSON format\n",
    "\n",
    "tweet_file = bz2.BZ2File('./tweets/marriageEquality.txt.bz2', mode='r')\n",
    "jobj = json.loads(tweet_file.readline())\n",
    "\n",
    "# Example of first tweet information\n",
    "# print(json.dumps(jobj, sort_keys=True, indent=2, separators=(',', ': ')))"
   ]
  },
  {
   "cell_type": "code",
   "execution_count": null,
   "metadata": {
    "collapsed": true
   },
   "outputs": [],
   "source": [
    "# Parse the JSON tweet object and extract information:\n",
    "# user/id, retweeted user id\n",
    "user_id = jobj[u'user'][u'id']\n",
    "if isinstance(user_id, dict):\n",
    "    user_id = user_id.values()[0]\n",
    "user_id = int(user_id) #user_id is u1\n",
    "\n",
    "print \"User id: '%s'\" % user_id\n",
    "if jobj.has_key(u'retweeted_status'):\n",
    "    retweet_user_id = jobj[u'retweeted_status'][u'user'][u'id']\n",
    "    if isinstance(retweet_user_id, dict):\n",
    "        retweet_user_id = retweet_user_id.values()[0]\n",
    "    retweet_user_id = int(retweet_user_id) #retweet_user_id is u2\n",
    "    \n",
    "    print \"Retweeted user: '%s'\" % retweet_user_id\n",
    "else:\n",
    "    print \"Not retweeted\""
   ]
  }
 ],
 "metadata": {
  "kernelspec": {
   "display_name": "Python 3",
   "language": "python",
   "name": "python3"
  },
  "language_info": {
   "codemirror_mode": {
    "name": "ipython",
    "version": 3
   },
   "file_extension": ".py",
   "mimetype": "text/x-python",
   "name": "python",
   "nbconvert_exporter": "python",
   "pygments_lexer": "ipython3",
   "version": "3.6.1"
  }
 },
 "nbformat": 4,
 "nbformat_minor": 2
}
